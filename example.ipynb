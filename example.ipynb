{
 "cells": [
  {
   "cell_type": "code",
   "execution_count": 497,
   "metadata": {},
   "outputs": [],
   "source": [
    "from keras.preprocessing.text import Tokenizer\n",
    "from keras.utils import pad_sequences\n",
    "import pandas as pd\n",
    "from xsvmlib.xsvmc import xSVMC\n",
    "from sklearn.model_selection import train_test_split\n",
    "from PIL import Image\n",
    "from PIL import ImageFont\n",
    "from PIL import ImageDraw \n",
    "from matplotlib.colors import LinearSegmentedColormap"
   ]
  },
  {
   "cell_type": "code",
   "execution_count": 498,
   "metadata": {},
   "outputs": [],
   "source": [
    "df_fake = pd.read_csv(\"data/Fake.csv\")\n",
    "df_true = pd.read_csv(\"data/True.csv\")\n",
    "df_fake[\"real\"] = \"F\"\n",
    "df_true[\"real\"] = \"T\"\n",
    "\n",
    "df_news_train = pd.read_csv(\"data/train.csv\")\n",
    "df_news_test = pd.read_csv(\"data/test.csv\")"
   ]
  },
  {
   "cell_type": "code",
   "execution_count": 499,
   "metadata": {},
   "outputs": [
    {
     "data": {
      "text/html": [
       "<div>\n",
       "<style scoped>\n",
       "    .dataframe tbody tr th:only-of-type {\n",
       "        vertical-align: middle;\n",
       "    }\n",
       "\n",
       "    .dataframe tbody tr th {\n",
       "        vertical-align: top;\n",
       "    }\n",
       "\n",
       "    .dataframe thead th {\n",
       "        text-align: right;\n",
       "    }\n",
       "</style>\n",
       "<table border=\"1\" class=\"dataframe\">\n",
       "  <thead>\n",
       "    <tr style=\"text-align: right;\">\n",
       "      <th></th>\n",
       "      <th>text</th>\n",
       "      <th>label</th>\n",
       "    </tr>\n",
       "  </thead>\n",
       "  <tbody>\n",
       "    <tr>\n",
       "      <th>47938</th>\n",
       "      <td>Adu Propels United Freddy Adu scores on a defl...</td>\n",
       "      <td>1</td>\n",
       "    </tr>\n",
       "    <tr>\n",
       "      <th>88627</th>\n",
       "      <td>NO QUIT IN HOLYFIELD Why is he still doing thi...</td>\n",
       "      <td>1</td>\n",
       "    </tr>\n",
       "    <tr>\n",
       "      <th>81605</th>\n",
       "      <td>FDA Official Alleges Vioxx Report Obstruction ...</td>\n",
       "      <td>2</td>\n",
       "    </tr>\n",
       "    <tr>\n",
       "      <th>107268</th>\n",
       "      <td>Update 2: European Central Bank Keeps Rates St...</td>\n",
       "      <td>2</td>\n",
       "    </tr>\n",
       "    <tr>\n",
       "      <th>39136</th>\n",
       "      <td>US Airways asks court to impose 23 percent pay...</td>\n",
       "      <td>2</td>\n",
       "    </tr>\n",
       "  </tbody>\n",
       "</table>\n",
       "</div>"
      ],
      "text/plain": [
       "                                                     text  label\n",
       "47938   Adu Propels United Freddy Adu scores on a defl...      1\n",
       "88627   NO QUIT IN HOLYFIELD Why is he still doing thi...      1\n",
       "81605   FDA Official Alleges Vioxx Report Obstruction ...      2\n",
       "107268  Update 2: European Central Bank Keeps Rates St...      2\n",
       "39136   US Airways asks court to impose 23 percent pay...      2"
      ]
     },
     "execution_count": 499,
     "metadata": {},
     "output_type": "execute_result"
    }
   ],
   "source": [
    "df_news = pd.concat([df_news_train, df_news_test])\n",
    "ready_news = df_news.sample(frac=1)[:100]\n",
    "ready_news.head()"
   ]
  },
  {
   "cell_type": "code",
   "execution_count": 514,
   "metadata": {},
   "outputs": [
    {
     "data": {
      "text/html": [
       "<div>\n",
       "<style scoped>\n",
       "    .dataframe tbody tr th:only-of-type {\n",
       "        vertical-align: middle;\n",
       "    }\n",
       "\n",
       "    .dataframe tbody tr th {\n",
       "        vertical-align: top;\n",
       "    }\n",
       "\n",
       "    .dataframe thead th {\n",
       "        text-align: right;\n",
       "    }\n",
       "</style>\n",
       "<table border=\"1\" class=\"dataframe\">\n",
       "  <thead>\n",
       "    <tr style=\"text-align: right;\">\n",
       "      <th></th>\n",
       "      <th>title</th>\n",
       "      <th>text</th>\n",
       "      <th>subject</th>\n",
       "      <th>date</th>\n",
       "      <th>real</th>\n",
       "    </tr>\n",
       "  </thead>\n",
       "  <tbody>\n",
       "    <tr>\n",
       "      <th>7459</th>\n",
       "      <td>Right-Wing Sheriff: We Don’t Need Rape Kits, ...</td>\n",
       "      <td>We definitely live in a rape culture, and one ...</td>\n",
       "      <td>News</td>\n",
       "      <td>March 16, 2016</td>\n",
       "      <td>F</td>\n",
       "    </tr>\n",
       "    <tr>\n",
       "      <th>11968</th>\n",
       "      <td>BOOM! TRUMP Holds “DISHONEST MEDIA” Accountabl...</td>\n",
       "      <td>Kellyanne Conway met with NBC s  Meet The Pres...</td>\n",
       "      <td>politics</td>\n",
       "      <td>Jan 8, 2017</td>\n",
       "      <td>F</td>\n",
       "    </tr>\n",
       "    <tr>\n",
       "      <th>11596</th>\n",
       "      <td>France's move to raise minimum food prices, li...</td>\n",
       "      <td>PARIS (Reuters) - France, the European Union s...</td>\n",
       "      <td>worldnews</td>\n",
       "      <td>December 21, 2017</td>\n",
       "      <td>T</td>\n",
       "    </tr>\n",
       "    <tr>\n",
       "      <th>19431</th>\n",
       "      <td>MISLEADING MAINSTREAM MEDIA Is Pushing False N...</td>\n",
       "      <td>Here is Michigan elector Michael Banerian tell...</td>\n",
       "      <td>left-news</td>\n",
       "      <td>Dec 18, 2016</td>\n",
       "      <td>F</td>\n",
       "    </tr>\n",
       "    <tr>\n",
       "      <th>1868</th>\n",
       "      <td>Russia Probe’s New Leader Disqualified Himsel...</td>\n",
       "      <td>With Devin Nunes  recusal from the House Intel...</td>\n",
       "      <td>News</td>\n",
       "      <td>April 6, 2017</td>\n",
       "      <td>F</td>\n",
       "    </tr>\n",
       "  </tbody>\n",
       "</table>\n",
       "</div>"
      ],
      "text/plain": [
       "                                                   title  \\\n",
       "7459    Right-Wing Sheriff: We Don’t Need Rape Kits, ...   \n",
       "11968  BOOM! TRUMP Holds “DISHONEST MEDIA” Accountabl...   \n",
       "11596  France's move to raise minimum food prices, li...   \n",
       "19431  MISLEADING MAINSTREAM MEDIA Is Pushing False N...   \n",
       "1868    Russia Probe’s New Leader Disqualified Himsel...   \n",
       "\n",
       "                                                    text    subject  \\\n",
       "7459   We definitely live in a rape culture, and one ...       News   \n",
       "11968  Kellyanne Conway met with NBC s  Meet The Pres...   politics   \n",
       "11596  PARIS (Reuters) - France, the European Union s...  worldnews   \n",
       "19431  Here is Michigan elector Michael Banerian tell...  left-news   \n",
       "1868   With Devin Nunes  recusal from the House Intel...       News   \n",
       "\n",
       "                     date real  \n",
       "7459       March 16, 2016    F  \n",
       "11968         Jan 8, 2017    F  \n",
       "11596  December 21, 2017     T  \n",
       "19431        Dec 18, 2016    F  \n",
       "1868        April 6, 2017    F  "
      ]
     },
     "execution_count": 514,
     "metadata": {},
     "output_type": "execute_result"
    }
   ],
   "source": [
    "dataset = pd.concat([df_fake, df_true])\n",
    "ready = dataset.sample(frac=1)[:3000]\n",
    "ready.head()"
   ]
  },
  {
   "cell_type": "code",
   "execution_count": 515,
   "metadata": {},
   "outputs": [],
   "source": [
    "sentences = ready[\"text\"]\n",
    "tokenizer = Tokenizer()\n",
    "tokenizer.fit_on_texts(sentences)\n",
    "word_index = tokenizer.word_index\n",
    "\n",
    "X = ready[\"text\"]\n",
    "y = ready[\"real\"]\n",
    "X_train, X_test, y_train, y_test = train_test_split(X, y, test_size=0.3, random_state=42)"
   ]
  },
  {
   "cell_type": "code",
   "execution_count": 516,
   "metadata": {},
   "outputs": [],
   "source": [
    "sequences_train = tokenizer.texts_to_sequences(X_train)\n",
    "ready_sequences_train = pad_sequences(sequences_train, padding=\"post\")\n",
    "pad_len = len(ready_sequences_train[0])\n",
    "sequences_train = tokenizer.texts_to_sequences(X_test)\n",
    "ready_sequences_test = pad_sequences(sequences_train, padding=\"post\", maxlen=pad_len)"
   ]
  },
  {
   "cell_type": "code",
   "execution_count": 517,
   "metadata": {},
   "outputs": [],
   "source": [
    "clf = xSVMC(kernel=\"linear\", k=1)\n",
    "clf.fit(ready_sequences_train, y_train)"
   ]
  },
  {
   "cell_type": "code",
   "execution_count": null,
   "metadata": {},
   "outputs": [],
   "source": [
    "SVs = clf.support_vectors_"
   ]
  },
  {
   "cell_type": "code",
   "execution_count": null,
   "metadata": {},
   "outputs": [],
   "source": [
    "def clean_data(text):\n",
    "  text_list = text.split(\" \")\n",
    "  filters = '!\"#$%&()*+,-./:;<=>?@[\\\\]^_`{|}~\\t\\n'\n",
    "  not_valid = [c for c in filters]\n",
    "  res = []\n",
    "  for palabra in text_list:\n",
    "    if palabra != \"\" and palabra not in not_valid:\n",
    "      res.append(palabra)\n",
    "  return res"
   ]
  },
  {
   "cell_type": "code",
   "execution_count": null,
   "metadata": {},
   "outputs": [],
   "source": [
    "# for pred in topK:\n",
    "#   print(pred.class_name,\n",
    "#   pred.eval.mu_hat.level,\n",
    "#   SVs[pred.eval.mu_hat.misv_idx],\n",
    "#   pred.eval.nu_hat.level,\n",
    "#   SVs[pred.eval.nu_hat.misv_idx],\n",
    "#   pred.eval.buoyancy)"
   ]
  },
  {
   "cell_type": "code",
   "execution_count": null,
   "metadata": {},
   "outputs": [],
   "source": [
    "colormap = LinearSegmentedColormap.from_list('custom', \n",
    "                                       [(0, '#2610b3'),\n",
    "                                        (1,   '#cc103c')], N=256)\n",
    "\n",
    "def draw_text(draw_obj, text, pos_x, pos_y, prob_yes, prob_no, font):\n",
    "  alpha = int(100 + prob_yes * 155)\n",
    "  color = colormap(prob_no)[:3]\n",
    "  draw_obj.text((pos_x, pos_y), text, fill=(int(color[0] * 255), int(color[1] * 255), int(color[2] * 255), alpha), font=font)"
   ]
  },
  {
   "cell_type": "code",
   "execution_count": null,
   "metadata": {},
   "outputs": [
    {
     "data": {
      "image/png": "[encoded data removed]",
      "text/html": [
       "<div style=\"vertical-align: middle;\"><strong>custom</strong> </div><div class=\"cmap\"><img alt=\"custom colormap\" title=\"custom\" style=\"border: 1px solid #555;\" src=\"data:image/png;base64,iVBORw0KGgoAAAANSUhEUgAAAgAAAABACAYAAABsv8+/AAAAFXRFWHRUaXRsZQBjdXN0b20gY29sb3JtYXA5qXsXAAAAG3RFWHREZXNjcmlwdGlvbgBjdXN0b20gY29sb3JtYXBwPmPzAAAAMHRFWHRBdXRob3IATWF0cGxvdGxpYiB2My42LjEsIGh0dHBzOi8vbWF0cGxvdGxpYi5vcmdEI+MMAAAAMnRFWHRTb2Z0d2FyZQBNYXRwbG90bGliIHYzLjYuMSwgaHR0cHM6Ly9tYXRwbG90bGliLm9yZ2qFfCsAAAF/SURBVHic7dZZSgNBFEDR11mBq3D/4AKTDxVRJJOVQe45P6Gg+tFdVOBury9v+5mZmfefbT59X28f6/mxXrf/sjnr3mPVnLXf51x/33/6+evm/n3/8TnP8h7Xn+tj7/fXeu3cW9/v/3Ou9/n/Ps+53vZenf/8ZXNX36vdAAA5AgAAggQAAAQJAAAIEgAAECQAACBIAABAkAAAgCABAABBAgAAggQAAAQJAAAIEgAAECQAACBIAABAkAAAgCABAABBAgAAggQAAAQJAAAIEgAAECQAACBIAABAkAAAgCABAABBAgAAggQAAAQJAAAIEgAAECQAACBIAABAkAAAgCABAABBAgAAggQAAAQJAAAIEgAAECQAACBIAABAkAAAgCABAABBAgAAggQAAAQJAAAIEgAAECQAACBIAABAkAAAgCABAABBAgAAggQAAAQJAAAIEgAAECQAACBIAABAkAAAgCABAABBAgAAggQAAAQJAAAIEgAAECQAACBIAABA0AEmqnmX50FW9gAAAABJRU5ErkJggg==\"></div><div style=\"vertical-align: middle; max-width: 514px; display: flex; justify-content: space-between;\"><div style=\"float: left;\"><div title=\"#2610b3ff\" style=\"display: inline-block; width: 1em; height: 1em; margin: 0; vertical-align: middle; border: 1px solid #555; background-color: #2610b3ff;\"></div> under</div><div style=\"margin: 0 auto; display: inline-block;\">bad <div title=\"#00000000\" style=\"display: inline-block; width: 1em; height: 1em; margin: 0; vertical-align: middle; border: 1px solid #555; background-color: #00000000;\"></div></div><div style=\"float: right;\">over <div title=\"#cc103cff\" style=\"display: inline-block; width: 1em; height: 1em; margin: 0; vertical-align: middle; border: 1px solid #555; background-color: #cc103cff;\"></div></div>"
      ],
      "text/plain": [
       "<matplotlib.colors.LinearSegmentedColormap at 0x1c0c9460700>"
      ]
     },
     "execution_count": 508,
     "metadata": {},
     "output_type": "execute_result"
    }
   ],
   "source": [
    "colormap"
   ]
  },
  {
   "cell_type": "code",
   "execution_count": null,
   "metadata": {},
   "outputs": [],
   "source": [
    "def create_img(l_text, prob_yes, prob_no, path):\n",
    "  img_x = 1000\n",
    "  img_y = 600\n",
    "  offset_x = 10\n",
    "  offset_y = 10\n",
    "\n",
    "  img = Image.new(mode=\"RGBA\", size=(img_x, img_y), color = (255, 255, 255))\n",
    "  txt = Image.new('RGBA', img.size, (255,255,255,0))\n",
    "  draw = ImageDraw.Draw(txt)\n",
    "  font = ImageFont.truetype(\"fonts\\SpaceMono-Bold.ttf\", 16)\n",
    "\n",
    "  last_pos_x = 0\n",
    "  combined = 0\n",
    "  pos_y = 0\n",
    "  for i in range(len(l_text)):\n",
    "    palabra = l_text[i]\n",
    "    pos_x = (len(palabra) + 1) * 10\n",
    "    if last_pos_x + pos_x + offset_x >= img_x:\n",
    "      pos_y += 18\n",
    "      last_pos_x = 0\n",
    "    draw_text(draw, palabra, last_pos_x + offset_x, pos_y + offset_y, prob_yes[i], prob_no[i], font)\n",
    "    last_pos_x += pos_x\n",
    "\n",
    "  combined = Image.alpha_composite(img, txt)\n",
    "  combined.save(path)"
   ]
  },
  {
   "cell_type": "code",
   "execution_count": null,
   "metadata": {},
   "outputs": [],
   "source": [
    "def render_text(text, mu_misv, nu_misv, idx):\n",
    "  texto = clean_data(text)\n",
    "  values_yes = mu_misv\n",
    "  max_yes = max(values_yes)\n",
    "  prob_yes = (values_yes / max_yes)\n",
    "  values_no = nu_misv\n",
    "  max_no = max(values_no)\n",
    "  prob_no = (values_no / max_no)\n",
    "  create_img(texto, prob_yes, prob_no, \"./output/out-%s.png\" % idx)"
   ]
  },
  {
   "cell_type": "code",
   "execution_count": null,
   "metadata": {},
   "outputs": [
    {
     "data": {
      "text/plain": [
       "'WASHINGTON (Reuters) - President Donald Trump said on Wednesday he would seek an investigation into what he believes was voter fraud in last  November’s election, despite an overwhelming consensus among state officials, election experts, and politicians that it is rare in the United States. The announcement drew rebukes from both Republicans and Democrats who said the Republican president’s unsubstantiated claims of large-scale fraud could undermine voting rights efforts as well as confidence in the new U.S. chief executive. In the Nov. 8 election, Trump lost the popular vote to Democrat Hillary Clinton by nearly 3 million ballots. Irked by that large figure, he has blamed voter fraud without citing evidence. “I will be asking for a major investigation into VOTER FRAUD, including those registered to vote in two states, those who are illegal and....even, those registered to vote who are dead (and many for a long time),” Trump said on Twitter. “Depending on results, we will strengthen up voting procedures!” In an interview with ABC News, Trump said none of the illegal votes would have been cast for him. “They would all be for the other side,” he said. White House press secretary Sean Spicer later told a news briefing that the probe would not focus on only the 2016 election. Three Democratic congressmen demanded proof of such fraud and sent a letter to election officials and attorneys general in all 50 U.S. states seeking examples of cases of fraud in November’s vote. Many of the state officials did not need prompting with election officers in several states rejecting Trump’s claims immediately.  “Easy to vote, hard to cheat #Ohio,” Ohio’s Republican secretary of state, Jon Husted, said in a Twitter post rebutting Trump’s claim that 3 million to 5 million illegal immigrants voted against him. “That’s impossible,” Democratic Secretary of State Alex Padilla of California said on CNN. There is no history of widespread voter fraud in U.S. elections. Leading Republicans, including the top Republican in Congress, House of Representatives Speaker Paul Ryan, have rejected the claims. Ryan, however, said in an interview Wednesday with MSNBC that if Trump believes there is widespread fraud “the right thing is to get an investigation to get the facts.” Trump won the state-by-state Electoral College tally that decides the presidency, but the historic popular vote gap and allegations of Russian meddling in the election on his behalf have led some to say his victory was not legitimate. Trump’s announcement that he will seek an investigation appeared to be prompted by a White House news briefing on Tuesday in which Spicer confirmed that the president continued to believe millions of illegal immigrants voted in the election.   Spicer initially said there was no investigation planned but changed tack after persistent questioning, saying “maybe we will ... anything is possible.” Federal investigations of voter fraud are rare. A five-year probe initiated by Republican President George W. Bush’s administration turned up no evidence of voter fraud and ended in resignations and more investigations for the Department of Justice which enforces federal voting rights laws. “Republicans have used claims of widespread voter fraud to discriminate and restrict access to the ballot box for years,” said Democratic U.S. Representative James Clyburn of South Carolina. Trump’s attorney general nominee, Republican Senator Jeff Sessions, has been criticized for his record on voting rights and race relations. A voter fraud case he prosecuted as a U.S. attorney in his home state of Alabama helped derail his confirmation as a federal judge in 1986. Voting rights experts at New York University’s Brennan Center for Justice urged Sessions to heed lessons of the past. “In 2007, the Justice Department was upended by scandal because it had pursued a partisan agenda on voting, under the guise of rooting out suspected ‘voter fraud,’” Adam Gitlin and Wendy Weiser wrote in a Jan. 7 report for the center. “DOJ political leadership fired seven well-respected U.S. attorneys, dismissing some top Republican prosecutors because they had refused to prosecute non-existent voter fraud,” they wrote. The firings scandal prompted the resignation of the attorney general, Alberto Gonzales, they said. Others expressed concern that Trump’s repetition of falsehoods, including the size of inauguration crowds as well as voter fraud, could undermine public confidence. U.S. Representative Adam Schiff, the top Democrat on the House intelligence committee, said Trump will need to be believed when he makes the case about a foreign threat and cannot reveal the intelligence behind it. “Our new president is doing deep damage to himself and to our country,” Schiff said on Wednesday at the Center for American Progress think tank. '"
      ]
     },
     "execution_count": 511,
     "metadata": {},
     "output_type": "execute_result"
    }
   ],
   "source": [
    "X_test.iloc[19]"
   ]
  },
  {
   "cell_type": "code",
   "execution_count": null,
   "metadata": {},
   "outputs": [
    {
     "data": {
      "text/plain": [
       "'T'"
      ]
     },
     "execution_count": 512,
     "metadata": {},
     "output_type": "execute_result"
    }
   ],
   "source": [
    "y_test.iloc[19]"
   ]
  },
  {
   "cell_type": "code",
   "execution_count": null,
   "metadata": {},
   "outputs": [],
   "source": [
    "for i in range(10):\n",
    "  test_ex = i\n",
    "  topK = clf.predict_with_context(ready_sequences_test[test_ex])\n",
    "  pred = topK[0]\n",
    "  mu_misv = SVs[pred.eval.mu_hat.misv_idx]\n",
    "  nu_misv = SVs[pred.eval.nu_hat.misv_idx]\n",
    "  render_text(X_test.iloc[test_ex], mu_misv, nu_misv, test_ex)"
   ]
  }
 ],
 "metadata": {
  "kernelspec": {
   "display_name": "Python 3.9.13 ('pruebas')",
   "language": "python",
   "name": "python3"
  },
  "language_info": {
   "codemirror_mode": {
    "name": "ipython",
    "version": 3
   },
   "file_extension": ".py",
   "mimetype": "text/x-python",
   "name": "python",
   "nbconvert_exporter": "python",
   "pygments_lexer": "ipython3",
   "version": "3.9.13"
  },
  "orig_nbformat": 4,
  "vscode": {
   "interpreter": {
    "hash": "04ab6baeaae7db6a2f276701fa76e91a3aa9abfbfa42798e3d0d35976ee9c53e"
   }
  }
 },
 "nbformat": 4,
 "nbformat_minor": 2
}
